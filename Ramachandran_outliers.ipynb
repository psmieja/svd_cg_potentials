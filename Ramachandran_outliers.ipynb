{
 "cells": [
  {
   "cell_type": "markdown",
   "id": "e02f8766",
   "metadata": {},
   "source": [
    "# Ramachandran outliers\n",
    "\n",
    "The goal here is to find the aminoacids present in the excluded volume and save their location to determine the possible mistakes in the database or shortcomings of the phi-psi finding code"
   ]
  },
  {
   "cell_type": "code",
   "execution_count": 2,
   "id": "51327293",
   "metadata": {},
   "outputs": [],
   "source": [
    "import numpy as np\n",
    "import pandas as pd\n",
    "import matplotlib.pyplot as plt\n",
    "import os\n",
    "import matplotlib.colors as colors\n",
    "from matplotlib import cm\n",
    "\n",
    "from my_utilities.data import get_data\n",
    "from my_utilities.ramachandran import get_ramachandran, plot_ramachandran\n",
    "from my_utilities.matrix_representations import limited_SVD_representation\n",
    "from my_utilities.density import get_g_hist_linear, get_g_hist_trivial\n",
    "from my_utilities.metrics import log_likelihood"
   ]
  },
  {
   "cell_type": "code",
   "execution_count": null,
   "id": "2b1dc8b5",
   "metadata": {},
   "outputs": [],
   "source": []
  },
  {
   "cell_type": "markdown",
   "id": "61e3263c",
   "metadata": {},
   "source": [
    "## Excluded volume\n",
    "first we have to get info on excluded volume."
   ]
  },
  {
   "cell_type": "code",
   "execution_count": 5,
   "id": "7e9bb6ba",
   "metadata": {},
   "outputs": [
    {
     "name": "stdout",
     "output_type": "stream",
     "text": [
      "./pyrosetta/exclmap128.csv\r\n",
      "./pyrosetta/exclmap256.csv\r\n",
      "./pyrosetta/exclmap32.csv\r\n",
      "./pyrosetta/exclmap64.csv\r\n"
     ]
    }
   ],
   "source": [
    "! ls -1 ./pyrosetta/exclmap*.csv"
   ]
  },
  {
   "cell_type": "markdown",
   "id": "f382c849",
   "metadata": {},
   "source": [
    "We have already created exluded volume masks for n_bins $\\in \\{32,64,128,256\\}$ so we'll take the largest resolution one to find the outliers"
   ]
  },
  {
   "cell_type": "code",
   "execution_count": 52,
   "id": "5206c16b",
   "metadata": {},
   "outputs": [],
   "source": [
    "excluded_volume_mask = ~pd.read_csv(f\"./pyrosetta/exclmap256_30.csv\").to_numpy()"
   ]
  },
  {
   "cell_type": "code",
   "execution_count": 53,
   "id": "17d88b46",
   "metadata": {
    "scrolled": false
   },
   "outputs": [
    {
     "data": {
      "image/png": "[encoded data removed]",
      "text/plain": [
       "<Figure size 640x480 with 1 Axes>"
      ]
     },
     "metadata": {},
     "output_type": "display_data"
    }
   ],
   "source": [
    "plot_ramachandran(excluded_volume_mask)"
   ]
  },
  {
   "cell_type": "markdown",
   "id": "e60cc040",
   "metadata": {},
   "source": [
    "## Data"
   ]
  },
  {
   "cell_type": "code",
   "execution_count": 9,
   "id": "457a8fe3",
   "metadata": {},
   "outputs": [],
   "source": [
    "datfiles_dir = \"./dat_files1/\"\n",
    "pdb_entries = os.listdir(datfiles_dir)"
   ]
  },
  {
   "cell_type": "code",
   "execution_count": 54,
   "id": "2de96cca",
   "metadata": {},
   "outputs": [],
   "source": [
    "# previously created method get_data does not distinguish between files, so we'll do it manually\n",
    "data_list = []\n",
    "for filename in pdb_entries:\n",
    "    with open(f\"{datfiles_dir}{filename}\") as file_content:\n",
    "        for line_num, line in enumerate(file_content.readlines()):\n",
    "            row = line.split()\n",
    "            # we want to eliminate rows with lacking columns\n",
    "            if len(row) == 8:\n",
    "                data_list.append([filename, # pdb id\n",
    "                                  line_num, # num of line in the pdb file\n",
    "                                  str(row[0]),\n",
    "                                  str(row[1]),\n",
    "                                  int(row[2]),\n",
    "                                  str(row[3]),\n",
    "                                  str(row[4]),\n",
    "                                  str(row[5]),\n",
    "                                  float(row[6]),\n",
    "                                  float(row[7])])\n",
    "data =  pd.DataFrame(data_list,\n",
    "                     columns=[\"filename\",\n",
    "                              \"line_num\",\n",
    "                              \"pdb_code\",\n",
    "                              \"chain_code\",\n",
    "                              \"aa_num_in_sequence\",\n",
    "                              \"aa_3l_code\",\n",
    "                              \"aa_triplet\",\n",
    "                              \"2nd_struct\",\n",
    "                              \"phi\", \"psi\"])"
   ]
  },
  {
   "cell_type": "code",
   "execution_count": null,
   "id": "bb9da41c",
   "metadata": {},
   "outputs": [],
   "source": []
  },
  {
   "cell_type": "code",
   "execution_count": 57,
   "id": "f027149e",
   "metadata": {},
   "outputs": [],
   "source": [
    "n = excluded_volume_mask.shape[0]\n",
    "dx = 2 * np.pi / n\n",
    "\n",
    "data[\"outlier\"] = data.apply(lambda row:\n",
    "                             ~ excluded_volume_mask[\n",
    "                                 tuple(((np.array([row[\"phi\"],row[\"psi\"]]) + np.pi) // dx).astype(int))\n",
    "                             ],\n",
    "                             axis=1\n",
    "                            )"
   ]
  },
  {
   "cell_type": "code",
   "execution_count": 59,
   "id": "a2b3f38a",
   "metadata": {},
   "outputs": [
    {
     "name": "stderr",
     "output_type": "stream",
     "text": [
      "/home/pt/miniconda3/envs/surpass1/lib/python3.7/site-packages/IPython/core/pylabtools.py:151: UserWarning: Creating legend with loc=\"best\" can be slow with large amounts of data.\n",
      "  fig.canvas.print_figure(bytes_io, **kw)\n"
     ]
    },
    {
     "data": {
      "image/png": "[encoded data removed]",
      "text/plain": [
       "<Figure size 640x480 with 1 Axes>"
      ]
     },
     "metadata": {},
     "output_type": "display_data"
    }
   ],
   "source": [
    "points_all = data[[\"phi\", \"psi\"]].values\n",
    "points_out = data[data[\"outlier\"]][[\"phi\", \"psi\"]].values\n",
    "plt.scatter(points_all[:,0], points_all[:,1], label=\"all\")\n",
    "plt.scatter(points_out[:,0], points_out[:,1], label=\"out\")\n",
    "plt.legend()\n",
    "plt.show()"
   ]
  },
  {
   "cell_type": "code",
   "execution_count": 60,
   "id": "471125b9",
   "metadata": {},
   "outputs": [
    {
     "data": {
      "text/plain": [
       "2420123"
      ]
     },
     "execution_count": 60,
     "metadata": {},
     "output_type": "execute_result"
    }
   ],
   "source": [
    "len(data)"
   ]
  },
  {
   "cell_type": "code",
   "execution_count": 63,
   "id": "b55947ac",
   "metadata": {},
   "outputs": [
    {
     "data": {
      "text/html": [
       "<div>\n",
       "<style scoped>\n",
       "    .dataframe tbody tr th:only-of-type {\n",
       "        vertical-align: middle;\n",
       "    }\n",
       "\n",
       "    .dataframe tbody tr th {\n",
       "        vertical-align: top;\n",
       "    }\n",
       "\n",
       "    .dataframe thead th {\n",
       "        text-align: right;\n",
       "    }\n",
       "</style>\n",
       "<table border=\"1\" class=\"dataframe\">\n",
       "  <thead>\n",
       "    <tr style=\"text-align: right;\">\n",
       "      <th></th>\n",
       "      <th>filename</th>\n",
       "      <th>line_num</th>\n",
       "      <th>pdb_code</th>\n",
       "      <th>chain_code</th>\n",
       "      <th>aa_num_in_sequence</th>\n",
       "      <th>aa_3l_code</th>\n",
       "      <th>aa_triplet</th>\n",
       "      <th>2nd_struct</th>\n",
       "      <th>phi</th>\n",
       "      <th>psi</th>\n",
       "      <th>outlier</th>\n",
       "    </tr>\n",
       "  </thead>\n",
       "  <tbody>\n",
       "    <tr>\n",
       "      <th>13159</th>\n",
       "      <td>5zm0.dat</td>\n",
       "      <td>0</td>\n",
       "      <td>5ZM0</td>\n",
       "      <td>A</td>\n",
       "      <td>4</td>\n",
       "      <td>VAL</td>\n",
       "      <td>GVK</td>\n",
       "      <td>CCC</td>\n",
       "      <td>0.000000</td>\n",
       "      <td>2.846584</td>\n",
       "      <td>True</td>\n",
       "    </tr>\n",
       "    <tr>\n",
       "      <th>14534</th>\n",
       "      <td>1vrz.dat</td>\n",
       "      <td>0</td>\n",
       "      <td>1VRZ</td>\n",
       "      <td>A</td>\n",
       "      <td>3</td>\n",
       "      <td>23F</td>\n",
       "      <td>GFA</td>\n",
       "      <td>HHH</td>\n",
       "      <td>0.000000</td>\n",
       "      <td>0.000000</td>\n",
       "      <td>True</td>\n",
       "    </tr>\n",
       "    <tr>\n",
       "      <th>14535</th>\n",
       "      <td>1vrz.dat</td>\n",
       "      <td>1</td>\n",
       "      <td>1VRZ</td>\n",
       "      <td>A</td>\n",
       "      <td>4</td>\n",
       "      <td>ALA</td>\n",
       "      <td>FAF</td>\n",
       "      <td>HHH</td>\n",
       "      <td>0.000000</td>\n",
       "      <td>0.000000</td>\n",
       "      <td>True</td>\n",
       "    </tr>\n",
       "    <tr>\n",
       "      <th>14536</th>\n",
       "      <td>1vrz.dat</td>\n",
       "      <td>2</td>\n",
       "      <td>1VRZ</td>\n",
       "      <td>A</td>\n",
       "      <td>5</td>\n",
       "      <td>23F</td>\n",
       "      <td>AFF</td>\n",
       "      <td>HHH</td>\n",
       "      <td>0.000000</td>\n",
       "      <td>0.000000</td>\n",
       "      <td>True</td>\n",
       "    </tr>\n",
       "    <tr>\n",
       "      <th>14537</th>\n",
       "      <td>1vrz.dat</td>\n",
       "      <td>3</td>\n",
       "      <td>1VRZ</td>\n",
       "      <td>A</td>\n",
       "      <td>6</td>\n",
       "      <td>23F</td>\n",
       "      <td>FFA</td>\n",
       "      <td>HHH</td>\n",
       "      <td>0.000000</td>\n",
       "      <td>0.000000</td>\n",
       "      <td>True</td>\n",
       "    </tr>\n",
       "    <tr>\n",
       "      <th>...</th>\n",
       "      <td>...</td>\n",
       "      <td>...</td>\n",
       "      <td>...</td>\n",
       "      <td>...</td>\n",
       "      <td>...</td>\n",
       "      <td>...</td>\n",
       "      <td>...</td>\n",
       "      <td>...</td>\n",
       "      <td>...</td>\n",
       "      <td>...</td>\n",
       "      <td>...</td>\n",
       "    </tr>\n",
       "    <tr>\n",
       "      <th>2249160</th>\n",
       "      <td>3nzb.dat</td>\n",
       "      <td>82</td>\n",
       "      <td>3NZB</td>\n",
       "      <td>X</td>\n",
       "      <td>84</td>\n",
       "      <td>GLU</td>\n",
       "      <td>NES</td>\n",
       "      <td>CCC</td>\n",
       "      <td>-0.699860</td>\n",
       "      <td>0.498866</td>\n",
       "      <td>True</td>\n",
       "    </tr>\n",
       "    <tr>\n",
       "      <th>2249161</th>\n",
       "      <td>3nzb.dat</td>\n",
       "      <td>83</td>\n",
       "      <td>3NZB</td>\n",
       "      <td>X</td>\n",
       "      <td>85</td>\n",
       "      <td>SER</td>\n",
       "      <td>ESL</td>\n",
       "      <td>CCC</td>\n",
       "      <td>-0.690296</td>\n",
       "      <td>-2.427220</td>\n",
       "      <td>True</td>\n",
       "    </tr>\n",
       "    <tr>\n",
       "      <th>2311556</th>\n",
       "      <td>3vl1.dat</td>\n",
       "      <td>46</td>\n",
       "      <td>3VL1</td>\n",
       "      <td>A</td>\n",
       "      <td>48</td>\n",
       "      <td>GLY</td>\n",
       "      <td>LGN</td>\n",
       "      <td>CCC</td>\n",
       "      <td>-0.670316</td>\n",
       "      <td>0.932704</td>\n",
       "      <td>True</td>\n",
       "    </tr>\n",
       "    <tr>\n",
       "      <th>2329832</th>\n",
       "      <td>4a4y.dat</td>\n",
       "      <td>123</td>\n",
       "      <td>4A4Y</td>\n",
       "      <td>A</td>\n",
       "      <td>125</td>\n",
       "      <td>HIS</td>\n",
       "      <td>NHS</td>\n",
       "      <td>CCC</td>\n",
       "      <td>-0.050638</td>\n",
       "      <td>-2.418998</td>\n",
       "      <td>True</td>\n",
       "    </tr>\n",
       "    <tr>\n",
       "      <th>2344220</th>\n",
       "      <td>3lhn.dat</td>\n",
       "      <td>153</td>\n",
       "      <td>3LHN</td>\n",
       "      <td>B</td>\n",
       "      <td>92</td>\n",
       "      <td>GLU</td>\n",
       "      <td>DES</td>\n",
       "      <td>CCE</td>\n",
       "      <td>0.525993</td>\n",
       "      <td>2.216846</td>\n",
       "      <td>True</td>\n",
       "    </tr>\n",
       "  </tbody>\n",
       "</table>\n",
       "<p>172 rows × 11 columns</p>\n",
       "</div>"
      ],
      "text/plain": [
       "         filename  line_num pdb_code chain_code  aa_num_in_sequence  \\\n",
       "13159    5zm0.dat         0     5ZM0          A                   4   \n",
       "14534    1vrz.dat         0     1VRZ          A                   3   \n",
       "14535    1vrz.dat         1     1VRZ          A                   4   \n",
       "14536    1vrz.dat         2     1VRZ          A                   5   \n",
       "14537    1vrz.dat         3     1VRZ          A                   6   \n",
       "...           ...       ...      ...        ...                 ...   \n",
       "2249160  3nzb.dat        82     3NZB          X                  84   \n",
       "2249161  3nzb.dat        83     3NZB          X                  85   \n",
       "2311556  3vl1.dat        46     3VL1          A                  48   \n",
       "2329832  4a4y.dat       123     4A4Y          A                 125   \n",
       "2344220  3lhn.dat       153     3LHN          B                  92   \n",
       "\n",
       "        aa_3l_code aa_triplet 2nd_struct       phi       psi  outlier  \n",
       "13159          VAL        GVK        CCC  0.000000  2.846584     True  \n",
       "14534          23F        GFA        HHH  0.000000  0.000000     True  \n",
       "14535          ALA        FAF        HHH  0.000000  0.000000     True  \n",
       "14536          23F        AFF        HHH  0.000000  0.000000     True  \n",
       "14537          23F        FFA        HHH  0.000000  0.000000     True  \n",
       "...            ...        ...        ...       ...       ...      ...  \n",
       "2249160        GLU        NES        CCC -0.699860  0.498866     True  \n",
       "2249161        SER        ESL        CCC -0.690296 -2.427220     True  \n",
       "2311556        GLY        LGN        CCC -0.670316  0.932704     True  \n",
       "2329832        HIS        NHS        CCC -0.050638 -2.418998     True  \n",
       "2344220        GLU        DES        CCE  0.525993  2.216846     True  \n",
       "\n",
       "[172 rows x 11 columns]"
      ]
     },
     "execution_count": 63,
     "metadata": {},
     "output_type": "execute_result"
    }
   ],
   "source": [
    "data[data[\"outlier\"]]"
   ]
  },
  {
   "cell_type": "code",
   "execution_count": 62,
   "id": "5b1137e2",
   "metadata": {},
   "outputs": [],
   "source": [
    "data[data[\"outlier\"]].to_csv(\"./outliers1.csv\")"
   ]
  },
  {
   "cell_type": "code",
   "execution_count": null,
   "id": "2cbbc7b8",
   "metadata": {},
   "outputs": [],
   "source": [
    "plt.scatter(point1[0], point1[1])\n",
    "plt.xlim([-np.pi, np.pi])\n",
    "plt.ylim([-np.pi, np.pi])\n",
    "plt.show()"
   ]
  },
  {
   "cell_type": "code",
   "execution_count": null,
   "id": "6f4a602a",
   "metadata": {},
   "outputs": [],
   "source": [
    "excluded_volume_mask1 = np.copy(excluded_volume_mask)\n",
    "excluded_volume_mask1"
   ]
  },
  {
   "cell_type": "code",
   "execution_count": null,
   "id": "ee6716e2",
   "metadata": {},
   "outputs": [],
   "source": [
    "plt.imshow(excluded_volume_mask)"
   ]
  },
  {
   "cell_type": "code",
   "execution_count": 17,
   "id": "51c235ac",
   "metadata": {},
   "outputs": [
    {
     "data": {
      "text/plain": [
       "(array([1.191980e+05, 4.688300e+05, 6.386700e+05, 1.038681e+06,\n",
       "        7.430000e+02, 6.340000e+02, 6.661000e+04, 6.700800e+04,\n",
       "        1.021200e+04, 9.537000e+03]),\n",
       " array([-3.1415820e+00, -2.5132657e+00, -1.8849494e+00, -1.2566331e+00,\n",
       "        -6.2831680e-01, -5.0000000e-07,  6.2831580e-01,  1.2566321e+00,\n",
       "         1.8849484e+00,  2.5132647e+00,  3.1415810e+00]),\n",
       " <BarContainer object of 10 artists>)"
      ]
     },
     "execution_count": 17,
     "metadata": {},
     "output_type": "execute_result"
    },
    {
     "data": {
      "image/png": "[encoded data removed]",
      "text/plain": [
       "<Figure size 640x480 with 1 Axes>"
      ]
     },
     "metadata": {},
     "output_type": "display_data"
    }
   ],
   "source": [
    "plt.hist(data[[\"phi\",\"psi\"]].values[:,0])"
   ]
  },
  {
   "cell_type": "code",
   "execution_count": null,
   "id": "4b180554",
   "metadata": {},
   "outputs": [],
   "source": []
  },
  {
   "cell_type": "code",
   "execution_count": null,
   "id": "62390788",
   "metadata": {},
   "outputs": [],
   "source": []
  },
  {
   "cell_type": "code",
   "execution_count": null,
   "id": "315edaef",
   "metadata": {},
   "outputs": [],
   "source": []
  }
 ],
 "metadata": {
  "kernelspec": {
   "display_name": "Python 3 (ipykernel)",
   "language": "python",
   "name": "python3"
  },
  "language_info": {
   "codemirror_mode": {
    "name": "ipython",
    "version": 3
   },
   "file_extension": ".py",
   "mimetype": "text/x-python",
   "name": "python",
   "nbconvert_exporter": "python",
   "pygments_lexer": "ipython3",
   "version": "3.10.11"
  },
  "toc": {
   "base_numbering": 1,
   "nav_menu": {},
   "number_sections": true,
   "sideBar": true,
   "skip_h1_title": false,
   "title_cell": "Table of Contents",
   "title_sidebar": "Contents",
   "toc_cell": false,
   "toc_position": {},
   "toc_section_display": true,
   "toc_window_display": false
  },
  "varInspector": {
   "cols": {
    "lenName": 16,
    "lenType": 16,
    "lenVar": 40
   },
   "kernels_config": {
    "python": {
     "delete_cmd_postfix": "",
     "delete_cmd_prefix": "del ",
     "library": "var_list.py",
     "varRefreshCmd": "print(var_dic_list())"
    },
    "r": {
     "delete_cmd_postfix": ") ",
     "delete_cmd_prefix": "rm(",
     "library": "var_list.r",
     "varRefreshCmd": "cat(var_dic_list()) "
    }
   },
   "types_to_exclude": [
    "module",
    "function",
    "builtin_function_or_method",
    "instance",
    "_Feature"
   ],
   "window_display": false
  }
 },
 "nbformat": 4,
 "nbformat_minor": 5
}
