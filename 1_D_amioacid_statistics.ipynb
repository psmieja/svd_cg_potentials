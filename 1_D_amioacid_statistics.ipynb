{
 "cells": [
  {
   "cell_type": "code",
   "execution_count": 111,
   "id": "cb98fcd2",
   "metadata": {},
   "outputs": [],
   "source": [
    "import os\n",
    "# from numba import jit\n",
    "# from tqdm import tqdm\n",
    "\n",
    "import numpy as np\n",
    "import pandas as pd\n",
    "\n",
    "import matplotlib.pyplot as plt\n",
    "import matplotlib.colors as colors \n",
    "from matplotlib import cm\n",
    "\n",
    "# from my_utilities.data import get_data\n",
    "from my_utilities.data import get_phipsi_dict_from_dataframe\n",
    "from my_utilities.ramachandran import get_ramachandran, plot_ramachandran\n",
    "from my_utilities.svd import SVD_representation\n",
    "# from my_utilities.density.vec import get_trivial_vec_density, get_linear_interpolator\n",
    "# from my_utilities.metrics import log_likelihood\n",
    "\n",
    "from my_utilities.constants import AMINOACIDS, aminoacid_name_from_1l"
   ]
  },
  {
   "cell_type": "code",
   "execution_count": 83,
   "id": "0d9aa378",
   "metadata": {},
   "outputs": [],
   "source": [
    "AA_RAMACHANDRAN_DATA_PATH = \"./my_cache/aa_ramachandran_data.pkl\"\n",
    "EXCLUDED_VOLUME_MASK_PATH = \"./pyrosetta/exclmap256_30.csv\""
   ]
  },
  {
   "cell_type": "code",
   "execution_count": 108,
   "id": "129b7bcf",
   "metadata": {},
   "outputs": [
    {
     "name": "stdout",
     "output_type": "stream",
     "text": [
      "6440\r\n"
     ]
    }
   ],
   "source": [
    "!ls ./dat_files1/ | wc -l"
   ]
  },
  {
   "cell_type": "code",
   "execution_count": 75,
   "id": "a7fb0f82",
   "metadata": {},
   "outputs": [],
   "source": [
    "data_raw = pd.read_pickle(AA_RAMACHANDRAN_DATA_PATH)"
   ]
  },
  {
   "cell_type": "code",
   "execution_count": 76,
   "id": "7f2513a5",
   "metadata": {},
   "outputs": [
    {
     "data": {
      "text/plain": [
       "2420123"
      ]
     },
     "execution_count": 76,
     "metadata": {},
     "output_type": "execute_result"
    }
   ],
   "source": [
    "len(data_raw)"
   ]
  },
  {
   "cell_type": "code",
   "execution_count": 86,
   "id": "88866b06",
   "metadata": {},
   "outputs": [],
   "source": [
    "data1 = data_raw[data_raw[\"aa_1l\"].isin(AMINOACIDS)]"
   ]
  },
  {
   "cell_type": "code",
   "execution_count": 87,
   "id": "056e7f59",
   "metadata": {
    "scrolled": true
   },
   "outputs": [
    {
     "data": {
      "text/plain": [
       "2420055"
      ]
     },
     "execution_count": 87,
     "metadata": {},
     "output_type": "execute_result"
    }
   ],
   "source": [
    "len(data1)"
   ]
  },
  {
   "cell_type": "code",
   "execution_count": 89,
   "id": "2ee41125",
   "metadata": {
    "scrolled": true
   },
   "outputs": [
    {
     "name": "stderr",
     "output_type": "stream",
     "text": [
      "/tmp/ipykernel_712091/2991999307.py:4: SettingWithCopyWarning: \n",
      "A value is trying to be set on a copy of a slice from a DataFrame.\n",
      "Try using .loc[row_indexer,col_indexer] = value instead\n",
      "\n",
      "See the caveats in the documentation: https://pandas.pydata.org/pandas-docs/stable/user_guide/indexing.html#returning-a-view-versus-a-copy\n",
      "  data1[\"outlier\"] = data1.apply(lambda row:\n"
     ]
    }
   ],
   "source": [
    "excluded_volume_mask = ~pd.read_csv(EXCLUDED_VOLUME_MASK_PATH).to_numpy()\n",
    "n = excluded_volume_mask.shape[0]\n",
    "dx = 2 * np.pi / n\n",
    "data1[\"outlier\"] = data1.apply(lambda row:\n",
    "                            ~ excluded_volume_mask[\n",
    "                                tuple(((np.array([row[\"phi\"],row[\"psi\"]]) + np.pi) // dx).astype(int))\n",
    "                            ],\n",
    "                            axis=1)"
   ]
  },
  {
   "cell_type": "code",
   "execution_count": 123,
   "id": "74206cfe",
   "metadata": {},
   "outputs": [
    {
     "data": {
      "image/png": "[encoded data removed]",
      "text/plain": [
       "<Figure size 400x400 with 1 Axes>"
      ]
     },
     "metadata": {},
     "output_type": "display_data"
    }
   ],
   "source": [
    "# plot_ramachandran(excluded_volume_mask)\n",
    "arr = excluded_volume_mask\n",
    "plt.figure(figsize=(4,4))\n",
    "plt.imshow(np.transpose(arr),\n",
    "           origin=\"lower\",\n",
    "           norm=colors.LogNorm(vmin=arr.min(), vmax=arr.max()),\n",
    "           cmap=cm.coolwarm,\n",
    "           interpolation=\"none\")\n",
    "n = arr.shape[0]\n",
    "plt.xticks(ticks=[-0.5,n/2-0.5,n-0.5], labels=[\"$-\\pi$\", \"0\", \"$\\pi$\"])\n",
    "plt.yticks(ticks=[-0.5,n/2-0.5,n-0.5], labels=[\"$-\\pi$\", \"0\", \"$\\pi$\"])\n",
    "plt.show()\n",
    "\n",
    "#  'none', 'antialiased', 'nearest', 'bilinear', 'bicubic', 'spline16', 'spline36', 'hanning', 'hamming', 'hermite', 'kaiser', 'quadric', 'catrom', 'gaussian', 'bessel', 'mitchell', 'sinc', 'lanczos', 'blackman'."
   ]
  },
  {
   "cell_type": "code",
   "execution_count": 96,
   "id": "8b887673",
   "metadata": {
    "scrolled": true
   },
   "outputs": [
    {
     "data": {
      "text/html": [
       "<div>\n",
       "<style scoped>\n",
       "    .dataframe tbody tr th:only-of-type {\n",
       "        vertical-align: middle;\n",
       "    }\n",
       "\n",
       "    .dataframe tbody tr th {\n",
       "        vertical-align: top;\n",
       "    }\n",
       "\n",
       "    .dataframe thead th {\n",
       "        text-align: right;\n",
       "    }\n",
       "</style>\n",
       "<table border=\"1\" class=\"dataframe\">\n",
       "  <thead>\n",
       "    <tr style=\"text-align: right;\">\n",
       "      <th></th>\n",
       "      <th>pdb_code</th>\n",
       "    </tr>\n",
       "    <tr>\n",
       "      <th>outlier</th>\n",
       "      <th></th>\n",
       "    </tr>\n",
       "  </thead>\n",
       "  <tbody>\n",
       "    <tr>\n",
       "      <th>False</th>\n",
       "      <td>2419883</td>\n",
       "    </tr>\n",
       "    <tr>\n",
       "      <th>True</th>\n",
       "      <td>172</td>\n",
       "    </tr>\n",
       "  </tbody>\n",
       "</table>\n",
       "</div>"
      ],
      "text/plain": [
       "         pdb_code\n",
       "outlier          \n",
       "False     2419883\n",
       "True          172"
      ]
     },
     "execution_count": 96,
     "metadata": {},
     "output_type": "execute_result"
    }
   ],
   "source": [
    "data1[[\"outlier\",\"pdb_code\"]].groupby(\"outlier\").count()"
   ]
  },
  {
   "cell_type": "code",
   "execution_count": 97,
   "id": "0ecb287a",
   "metadata": {},
   "outputs": [],
   "source": [
    "data = data1[~data1[\"outlier\"]]"
   ]
  },
  {
   "cell_type": "code",
   "execution_count": 99,
   "id": "0849f338",
   "metadata": {},
   "outputs": [
    {
     "data": {
      "text/plain": [
       "2419883"
      ]
     },
     "execution_count": 99,
     "metadata": {},
     "output_type": "execute_result"
    }
   ],
   "source": [
    "len(data)"
   ]
  },
  {
   "cell_type": "code",
   "execution_count": 126,
   "id": "8247fac7",
   "metadata": {},
   "outputs": [
    {
     "data": {
      "text/html": [
       "<div>\n",
       "<style scoped>\n",
       "    .dataframe tbody tr th:only-of-type {\n",
       "        vertical-align: middle;\n",
       "    }\n",
       "\n",
       "    .dataframe tbody tr th {\n",
       "        vertical-align: top;\n",
       "    }\n",
       "\n",
       "    .dataframe thead th {\n",
       "        text-align: right;\n",
       "    }\n",
       "</style>\n",
       "<table border=\"1\" class=\"dataframe\">\n",
       "  <thead>\n",
       "    <tr style=\"text-align: right;\">\n",
       "      <th></th>\n",
       "      <th>pdb_code</th>\n",
       "    </tr>\n",
       "    <tr>\n",
       "      <th>aa_1l</th>\n",
       "      <th></th>\n",
       "    </tr>\n",
       "  </thead>\n",
       "  <tbody>\n",
       "    <tr>\n",
       "      <th>L</th>\n",
       "      <td>10937</td>\n",
       "    </tr>\n",
       "    <tr>\n",
       "      <th>A</th>\n",
       "      <td>8537</td>\n",
       "    </tr>\n",
       "    <tr>\n",
       "      <th>V</th>\n",
       "      <td>8394</td>\n",
       "    </tr>\n",
       "    <tr>\n",
       "      <th>G</th>\n",
       "      <td>7709</td>\n",
       "    </tr>\n",
       "    <tr>\n",
       "      <th>T</th>\n",
       "      <td>7648</td>\n",
       "    </tr>\n",
       "    <tr>\n",
       "      <th>D</th>\n",
       "      <td>7467</td>\n",
       "    </tr>\n",
       "    <tr>\n",
       "      <th>I</th>\n",
       "      <td>7071</td>\n",
       "    </tr>\n",
       "    <tr>\n",
       "      <th>S</th>\n",
       "      <td>6657</td>\n",
       "    </tr>\n",
       "    <tr>\n",
       "      <th>N</th>\n",
       "      <td>6227</td>\n",
       "    </tr>\n",
       "    <tr>\n",
       "      <th>K</th>\n",
       "      <td>5868</td>\n",
       "    </tr>\n",
       "    <tr>\n",
       "      <th>P</th>\n",
       "      <td>5601</td>\n",
       "    </tr>\n",
       "    <tr>\n",
       "      <th>E</th>\n",
       "      <td>5387</td>\n",
       "    </tr>\n",
       "    <tr>\n",
       "      <th>R</th>\n",
       "      <td>5280</td>\n",
       "    </tr>\n",
       "    <tr>\n",
       "      <th>F</th>\n",
       "      <td>4760</td>\n",
       "    </tr>\n",
       "    <tr>\n",
       "      <th>Y</th>\n",
       "      <td>4196</td>\n",
       "    </tr>\n",
       "    <tr>\n",
       "      <th>Q</th>\n",
       "      <td>3923</td>\n",
       "    </tr>\n",
       "    <tr>\n",
       "      <th>H</th>\n",
       "      <td>3505</td>\n",
       "    </tr>\n",
       "    <tr>\n",
       "      <th>M</th>\n",
       "      <td>2461</td>\n",
       "    </tr>\n",
       "    <tr>\n",
       "      <th>C</th>\n",
       "      <td>1694</td>\n",
       "    </tr>\n",
       "    <tr>\n",
       "      <th>W</th>\n",
       "      <td>1452</td>\n",
       "    </tr>\n",
       "  </tbody>\n",
       "</table>\n",
       "</div>"
      ],
      "text/plain": [
       "       pdb_code\n",
       "aa_1l          \n",
       "L         10937\n",
       "A          8537\n",
       "V          8394\n",
       "G          7709\n",
       "T          7648\n",
       "D          7467\n",
       "I          7071\n",
       "S          6657\n",
       "N          6227\n",
       "K          5868\n",
       "P          5601\n",
       "E          5387\n",
       "R          5280\n",
       "F          4760\n",
       "Y          4196\n",
       "Q          3923\n",
       "H          3505\n",
       "M          2461\n",
       "C          1694\n",
       "W          1452"
      ]
     },
     "execution_count": 126,
     "metadata": {},
     "output_type": "execute_result"
    }
   ],
   "source": [
    "stats_pp"
   ]
  },
  {
   "cell_type": "code",
   "execution_count": 105,
   "id": "9dde1ed6",
   "metadata": {
    "scrolled": false
   },
   "outputs": [
    {
     "data": {
      "image/png": "[encoded data removed]",
      "text/plain": [
       "<Figure size 400x400 with 1 Axes>"
      ]
     },
     "metadata": {},
     "output_type": "display_data"
    }
   ],
   "source": [
    "stats_npp = data[~data[\"preproline\"]] \\\n",
    "                [[\"aa_1l\",\"pdb_code\"]] \\\n",
    "                .groupby([\"aa_1l\"]) \\\n",
    "                .count().sort_values(\"pdb_code\", ascending=False)\n",
    "\n",
    "plt.figure(figsize=(4,4))\n",
    "plt.bar(stats_npp.index, stats_npp[\"pdb_code\"].values)\n",
    "plt.show()"
   ]
  },
  {
   "cell_type": "code",
   "execution_count": 104,
   "id": "076d771e",
   "metadata": {
    "scrolled": false
   },
   "outputs": [
    {
     "data": {
      "image/png": "[encoded data removed]",
      "text/plain": [
       "<Figure size 500x500 with 1 Axes>"
      ]
     },
     "metadata": {},
     "output_type": "display_data"
    }
   ],
   "source": [
    "stats_pp = data[data[\"preproline\"]] \\\n",
    "               [[\"aa_1l\",\"pdb_code\"]] \\\n",
    "               .groupby([\"aa_1l\"]) \\\n",
    "               .count().sort_values(\"pdb_code\", ascending=False)\n",
    "\n",
    "plt.figure(figsize=(5,5))\n",
    "plt.bar(stats_pp.index, stats_pp[\"pdb_code\"].values)\n",
    "plt.show()"
   ]
  },
  {
   "cell_type": "code",
   "execution_count": null,
   "id": "b2102397",
   "metadata": {},
   "outputs": [],
   "source": []
  }
 ],
 "metadata": {
  "kernelspec": {
   "display_name": "Python 3 (ipykernel)",
   "language": "python",
   "name": "python3"
  },
  "language_info": {
   "codemirror_mode": {
    "name": "ipython",
    "version": 3
   },
   "file_extension": ".py",
   "mimetype": "text/x-python",
   "name": "python",
   "nbconvert_exporter": "python",
   "pygments_lexer": "ipython3",
   "version": "3.10.11"
  }
 },
 "nbformat": 4,
 "nbformat_minor": 5
}
